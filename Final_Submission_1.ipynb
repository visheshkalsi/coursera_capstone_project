{
    "cells": [
        {
            "cell_type": "markdown",
            "metadata": {},
            "source": "# Applied Data Science Capstone"
        },
        {
            "cell_type": "markdown",
            "metadata": {},
            "source": "## Segmenting and Clustering Neighborhoods in Toronto"
        },
        {
            "cell_type": "markdown",
            "metadata": {},
            "source": "### START of part 1"
        },
        {
            "cell_type": "markdown",
            "metadata": {},
            "source": "### Importing the required libraries"
        },
        {
            "cell_type": "code",
            "execution_count": null,
            "metadata": {},
            "outputs": [
                {
                    "name": "stdout",
                    "output_type": "stream",
                    "text": "Solving environment: / "
                }
            ],
            "source": "import pandas as pd\nimport numpy as np\nimport requests\nimport time\n!conda install -c conda-forge geocoder --yes\nimport geocoder\n!conda install -c conda-forge bs4 --yes\nfrom bs4 import BeautifulSoup\nimport ssl\nimport json\n!conda install -c conda-forge geopy --yes\nfrom geopy.geocoders import Nominatim\nfrom pandas.io.json import json_normalize\nimport matplotlib.cm as cm\nimport matplotlib.colors as colors\nfrom sklearn.cluster import KMeans\nimport folium\nssl._create_default_https_context = ssl._create_unverified_context\nprint('Libraries imported')"
        },
        {
            "cell_type": "markdown",
            "metadata": {},
            "source": "### Getting the file from the url"
        },
        {
            "cell_type": "code",
            "execution_count": null,
            "metadata": {},
            "outputs": [],
            "source": "url = 'https://en.wikipedia.org/wiki/List_of_postal_codes_of_Canada:_M'\nr = requests.get(url)\nr.status_code"
        },
        {
            "cell_type": "markdown",
            "metadata": {},
            "source": "### Scraping the contents"
        },
        {
            "cell_type": "code",
            "execution_count": null,
            "metadata": {},
            "outputs": [],
            "source": "# instantiate a soup object with the response text\nsoup = BeautifulSoup(r.text, \"html.parser\")\n\n# parse the table part of the response\npostal_table = soup.find(class_=\"wikitable sortable\")\n"
        },
        {
            "cell_type": "markdown",
            "metadata": {},
            "source": "### Transforming the data into a pandas dataframe"
        },
        {
            "cell_type": "code",
            "execution_count": null,
            "metadata": {},
            "outputs": [],
            "source": "# build the initial dataframe\ntable_rows = postal_table.find_all('tr')\nrow_values = []\nfor tr in table_rows:\n    td = tr.find_all('td')\n    row_text = [tr.text.strip() for tr in td if tr.text.strip()]\n    if row_text:\n        row_values.append(row_text)\n\ntoronto_df = pd.DataFrame(row_values, columns=[\"PostalCode\", \"Borough\", \"Neighborhood\"])\ntoronto_df.head(10)"
        },
        {
            "cell_type": "markdown",
            "metadata": {},
            "source": "### Cleaning the dataframe"
        },
        {
            "cell_type": "code",
            "execution_count": null,
            "metadata": {},
            "outputs": [],
            "source": "# ignore cells with a Borough that is 'Not assigned'\nborough_df = toronto_df[toronto_df.Borough != 'Not assigned']\n\n# combine neighborhoods with the same PostalCode into single row \ncombined_df = borough_df.groupby(['PostalCode', 'Borough'])['Neighborhood'].apply(', '.join).reset_index(drop=False)\n\ncombined_df.head(10)"
        },
        {
            "cell_type": "code",
            "execution_count": null,
            "metadata": {},
            "outputs": [],
            "source": "print(combined_df.shape)"
        },
        {
            "cell_type": "markdown",
            "metadata": {},
            "source": "### END part 1"
        },
        {
            "cell_type": "markdown",
            "metadata": {},
            "source": "### START part 2"
        },
        {
            "cell_type": "markdown",
            "metadata": {},
            "source": "### Getting the Latitude & Longitude Coordinates of Each Neighborhood and Creating a Dataframe"
        },
        {
            "cell_type": "code",
            "execution_count": null,
            "metadata": {},
            "outputs": [],
            "source": "# use the link to the csv file to get latitude & longitude as geocoder appears unstable\nurl = 'http://cocl.us/Geospatial_data'\nlat_long_df = pd.read_csv(url)\n\n# create a new dataframe with the required columns\ndetailed_df = pd.DataFrame({'PostalCode':combined_df['PostalCode'], \n                            'Borough':combined_df['Borough'], \n                            'Neighborhood':combined_df['Neighborhood'], \n                            'Latitude':lat_long_df['Latitude'], \n                            'Longitude':lat_long_df['Longitude']})\n\nprint('Toronto has a total of {} boroughs and {} neighborhoods.'.format(len(detailed_df.Borough.unique()), len(detailed_df.Neighborhood.unique())))\nprint('\\n')\ndetailed_df.head()"
        },
        {
            "cell_type": "markdown",
            "metadata": {},
            "source": "### End part 2"
        },
        {
            "cell_type": "markdown",
            "metadata": {},
            "source": "### START part 3"
        },
        {
            "cell_type": "markdown",
            "metadata": {},
            "source": "### Conduct cluster analysis"
        },
        {
            "cell_type": "code",
            "execution_count": null,
            "metadata": {},
            "outputs": [],
            "source": "# analyze the number of postal codes in 'Toronto' boroughs\ntoronto_borough = ['Downtown Toronto', 'Central Toronto', 'West Toronto', 'East Toronto']\n\nfor tor in toronto_borough:\n    print(\"{} has a total of {} postal codes.\".format(tor, detailed_df[detailed_df['Borough'] == tor].PostalCode.count()))"
        },
        {
            "cell_type": "code",
            "execution_count": null,
            "metadata": {},
            "outputs": [],
            "source": "d_t = detailed_df[detailed_df['Borough'] == 'Downtown Toronto']\nc_t = detailed_df[detailed_df['Borough'] == 'Central Toronto']\nw_t = detailed_df[detailed_df['Borough'] == 'West Toronto']\ne_t = detailed_df[detailed_df['Borough'] == 'East Toronto']\n\ncombined = pd.concat([d_t, c_t, w_t, e_t], sort=False)\ntoronto_dataframe = combined.reset_index(drop=True)\n\nprint(toronto_dataframe.shape)\ntoronto_dataframe.head(10)"
        },
        {
            "cell_type": "code",
            "execution_count": null,
            "metadata": {},
            "outputs": [],
            "source": "# get the latitude & longitude values of Toronto\naddress = 'Toronto, Ontario'\ngeolocator = Nominatim(user_agent=\"toronto_explorer\")\nlocation = geolocator.geocode(address)\nlatitude = location.latitude\nlongitude = location.longitude\n\nprint('Coordinates of Toronto are {}, {}. '.format(latitude, longitude))"
        },
        {
            "cell_type": "markdown",
            "metadata": {},
            "source": "### Create a Map of Toronto with its Neighborhoods Superimposed on Top"
        },
        {
            "cell_type": "code",
            "execution_count": null,
            "metadata": {},
            "outputs": [],
            "source": "map_toronto = folium.Map(location=[latitude, longitude], zoom_start=11)\n\n# add markers\nfor lat, lng, borough, neighborhood in zip(toronto_dataframe['Latitude'], toronto_dataframe['Longitude'], toronto_dataframe['Borough'], toronto_dataframe['Neighborhood']):\n    label = '{}, {}'.format(neighborhood, borough)\n    label = folium.Popup(label, parse_html=True)\n    folium.CircleMarker(\n        [lat, lng],\n        radius=5,\n        popup=label,\n        color='blue',\n        fill=True,\n        fill_color='#3186cc',\n        fill_opacity=0.5,\n        parse_html=False).add_to(map_toronto)\n    \nmap_toronto"
        },
        {
            "cell_type": "markdown",
            "metadata": {},
            "source": "### Explore the Neighborhoods Utilizing the Foursquare API and Segment Them"
        },
        {
            "cell_type": "code",
            "execution_count": null,
            "metadata": {},
            "outputs": [],
            "source": "# access Foursquare APIs\nclient_id = 'I0WSDFW5UEWAMMEATZRZL5B1VMKJV5TDZIAVJSGS1EVVBFST'\nclient_secret = 'KP1KVLWC4NMAVJSCPBODF0RIFXGPKZ2KDCIRMOO2TNMEO03X'\nversion = '20200504'"
        },
        {
            "cell_type": "code",
            "execution_count": null,
            "metadata": {},
            "outputs": [],
            "source": "# first neighborhood in toronto_dataframe\ntoronto_dataframe.loc[0, 'Neighborhood']"
        },
        {
            "cell_type": "code",
            "execution_count": null,
            "metadata": {},
            "outputs": [],
            "source": "# get Rosedale's latitude & longitude values\nrosedale_latitude = toronto_dataframe.loc[0, 'Latitude']\nrosedale_longitude = toronto_dataframe.loc[0, 'Longitude']\n\nprint('Rosedale\\'s latitude and longitude values are {}, {}.'.format(rosedale_latitude, rosedale_longitude))"
        },
        {
            "cell_type": "code",
            "execution_count": null,
            "metadata": {},
            "outputs": [],
            "source": "# get the top 100 venues that are in Rosedale within a radius of 500 meteres\nno_of_venues = 100\nradius = 500\nurl = 'https://api.foursquare.com/v2/venues/explore?&client_id={}&client_secret={}&v={}&ll={},{}&radius={}&limit={}'.format(client_id, client_secret, version, rosedale_latitude, rosedale_longitude, radius, no_of_venues)\n\nresponse = requests.get(url).json()\nresponse"
        },
        {
            "cell_type": "code",
            "execution_count": null,
            "metadata": {},
            "outputs": [],
            "source": "# function to extract the venue's category\ndef get_category_type(row):\n    try:\n        categories_list = row['categories']\n    except:\n        categories_list = row['venue.categories']\n        \n    if len(categories_list) == 0:\n        return None\n    else:\n        return categories_list[0]['name']"
        },
        {
            "cell_type": "code",
            "execution_count": null,
            "metadata": {},
            "outputs": [],
            "source": "# clean the response json and structure it into pandas dataframe\nvenues = response['response']['groups'][0]['items']\n# flatten json\nnearby_venues = json_normalize(venues)\n# filter only needed columns\nfiltered_columns = ['venue.name', 'venue.categories', 'venue.location.lat', 'venue.location.lng']\nnearby_venues = nearby_venues.loc[:, filtered_columns]\n# filter the category for each row\nnearby_venues['venue.categories'] = nearby_venues.apply(get_category_type, axis=1)\n# clean columns\nnearby_venues.columns = [col.split(\".\")[-1] for col in nearby_venues.columns]\n\nnearby_venues"
        },
        {
            "cell_type": "markdown",
            "metadata": {},
            "source": "### Explore all neighboorhoods and its venues"
        },
        {
            "cell_type": "code",
            "execution_count": null,
            "metadata": {},
            "outputs": [],
            "source": "# explore all the neighborhoods of four different boroughs using Foursquare APIs\ndef getNearbyVenues(names, latitudes, longitudes, radius=500):\n    venues_list = []\n    for name, lat, lng in zip(names, latitudes, longitudes):\n        print(name)\n        \n        url = 'https://api.foursquare.com/v2/venues/explore?&client_id={}&client_secret={}&v={}&ll={},{}&radius={}&limit={}'.format(client_id, client_secret, version, lat, lng, radius, no_of_venues)\n        results = requests.get(url).json()[\"response\"]['groups'][0]['items']\n        venues_list.append([(name, lat, lng, \n            v['venue']['name'], v['venue']['location']['lat'], v['venue']['location']['lng'],\n            v['venue']['categories'][0]['name']) for v in results])\n        \n    nearby_venues = pd.DataFrame([item for venue_list in venues_list for item in venue_list])\n    nearby_venues.columns = ['Neighborhood', 'Neighborhood Latitude', 'Neighborhood Longitude',\n                            'Venue', 'Venue Latitude', 'Venue Longitude', 'Venue Category']\n    return(nearby_venues)"
        },
        {
            "cell_type": "code",
            "execution_count": null,
            "metadata": {},
            "outputs": [],
            "source": "# run the above function on each neighborhood and create a new dataframe called toronto_venues\ntoronto_venues = getNearbyVenues(names=toronto_dataframe['Neighborhood'],\n                                 latitudes=toronto_dataframe['Latitude'],\n                                 longitudes=toronto_dataframe['Longitude'])"
        },
        {
            "cell_type": "code",
            "execution_count": null,
            "metadata": {},
            "outputs": [],
            "source": "# check how many venues were returned overall\nprint(toronto_venues.shape)\nprint('\\n')\ntoronto_venues.head(10)"
        },
        {
            "cell_type": "code",
            "execution_count": null,
            "metadata": {},
            "outputs": [],
            "source": "# check the number of venues for each neighborhood\ntoronto_venues.groupby('Neighborhood')['Venue'].count()"
        },
        {
            "cell_type": "markdown",
            "metadata": {},
            "source": "### Do One-hot Encoding All Neighborhoods based on the Venue Category"
        },
        {
            "cell_type": "code",
            "execution_count": null,
            "metadata": {},
            "outputs": [],
            "source": "# use one-hot encoding\ntoronto_onehot = pd.get_dummies(toronto_venues[['Venue Category']], prefix=\"\", prefix_sep=\"\")\n\n# add the neighborhood column back to dataframe\ntoronto_onehot['Neighborhood'] = toronto_venues['Neighborhood'] \n\n# move the neighborhood column to the first column\nfixed_columns = [toronto_onehot.columns[-1]] + list(toronto_onehot.columns[:-1])\ntoronto_onehot = toronto_onehot[fixed_columns]\n\ntoronto_onehot.shape"
        },
        {
            "cell_type": "markdown",
            "metadata": {},
            "source": "### Group Rows by Neighborhood and Take the Mean of the Frequency of Occurrence of Each Category"
        },
        {
            "cell_type": "code",
            "execution_count": null,
            "metadata": {},
            "outputs": [],
            "source": "toronto_grouped = toronto_onehot.groupby('Neighborhood').mean().reset_index()\n\nprint(toronto_grouped.shape)\ntoronto_grouped.head(5)"
        },
        {
            "cell_type": "markdown",
            "metadata": {},
            "source": "### Each Neighborhood with Top 5 Common Venues"
        },
        {
            "cell_type": "code",
            "execution_count": null,
            "metadata": {},
            "outputs": [],
            "source": "num_top_venues = 5\n\nfor hood in toronto_grouped['Neighborhood']:\n    print(\"[--------\"+hood+\"--------]\")\n    temp = toronto_grouped[toronto_grouped['Neighborhood'] == hood].T.reset_index()\n    temp.columns = ['venue', 'freq']\n    temp = temp.iloc[1:]\n    temp['freq'] = temp['freq'].astype(float)\n    temp = temp.round({'freq':2})\n    print(temp.sort_values('freq', ascending=False).reset_index(drop=True).head(num_top_venues))\n    print('\\n')"
        },
        {
            "cell_type": "markdown",
            "metadata": {},
            "source": "### Create a Dataframe that Has Top 10 Venues for Each Neighborhood"
        },
        {
            "cell_type": "code",
            "execution_count": null,
            "metadata": {},
            "outputs": [],
            "source": "def return_most_common_venues(row, num_top_venues):\n    row_categories = row.iloc[1:]\n    row_categories_sorted = row_categories.sort_values(ascending=False)\n    \n    return row_categories_sorted.index.values[0:num_top_venues]"
        },
        {
            "cell_type": "code",
            "execution_count": null,
            "metadata": {},
            "outputs": [],
            "source": "# create a dataframe to display top 10 venues for each neighborhood\nnum_top_venues = 10\nindicators = ['st', 'nd', 'rd', 'th']\n\ncolumns = ['Neighborhood']\nfor ind in np.arange(num_top_venues):\n    try:\n        columns.append('{}{} Most Common Venue'.format(ind+1, indicators[ind]))\n    except:\n         columns.append('{}th Most Common Venue'.format(ind+1))\n        \n# create the new dataframe\nneighborhood_venues_sorted = pd.DataFrame(columns=columns)\nneighborhood_venues_sorted['Neighborhood'] = toronto_grouped['Neighborhood']\n\nfor ind in np.arange(toronto_grouped.shape[0]):\n    neighborhood_venues_sorted.iloc[ind, 1:] = return_most_common_venues(toronto_grouped.iloc[ind, :], num_top_venues)\n\nneighborhood_venues_sorted.shape"
        },
        {
            "cell_type": "markdown",
            "metadata": {},
            "source": "### Run K-Means to Cluster the Neighborhoods"
        },
        {
            "cell_type": "code",
            "execution_count": null,
            "metadata": {},
            "outputs": [],
            "source": "# set the number of clusters\nkclusters = 4\ntoronto_grouped_clustering = toronto_grouped.drop('Neighborhood', 1)\n\n# run k-means clustering\nkmeans = KMeans(n_init=300 , n_clusters=kclusters, random_state=5).fit(toronto_grouped_clustering)\n\n#check cluster lables generated for each row in the dataframe\nkmeans.labels_[0:20]"
        },
        {
            "cell_type": "markdown",
            "metadata": {},
            "source": "### Create a New Dataframe that Includes the Clusters"
        },
        {
            "cell_type": "code",
            "execution_count": null,
            "metadata": {},
            "outputs": [],
            "source": "# add cluster labels\nneighborhood_venues_sorted.insert(0, 'Cluster Labels', kmeans.labels_)\ntoronto_merged = toronto_dataframe\n\n# merge toronto_grouped with toronto_dataframe to add latitude & longitue for each neighborhood\ntoronto_merged = toronto_merged.join(neighborhood_venues_sorted.set_index('Neighborhood'), on='Neighborhood')\ntoronto_merged.head()"
        },
        {
            "cell_type": "markdown",
            "metadata": {},
            "source": "### Visualize the Clusters"
        },
        {
            "cell_type": "code",
            "execution_count": null,
            "metadata": {},
            "outputs": [],
            "source": "# create a map\ncluster_map = folium.Map(location=[latitude, longitude], zoom_start=11)\n\n# set color schemes\nx = np.arange(kclusters)\nys = [i + x + (i*x)**2 for i in range(kclusters)]\ncolors_array = cm.rainbow(np.linspace(0, 1, len(ys)))\nrainbow = [colors.rgb2hex(i) for i in colors_array]\n\n# add markers to the map\nmarkers_colors = []\nfor lat, lon, poi, cluster in zip(toronto_merged['Latitude'], toronto_merged['Longitude'], toronto_merged['Neighborhood'], toronto_merged['Cluster Labels']):\n    label = folium.Popup(str(poi) + ' Cluster ' + str(cluster), parse_html=True)\n    folium.CircleMarker(\n    [lat, lon],\n    radius=9,\n    popup=label,\n    colors=rainbow[cluster-1],\n    fill=True,\n    fill_color=rainbow[cluster-1],\n    fill_opacity=2.0).add_to(cluster_map)\n\ncluster_map"
        },
        {
            "cell_type": "markdown",
            "metadata": {},
            "source": "### Examine Each Cluster and Determine the Discriminating Venue Categories that Distinguish Each Cluster"
        },
        {
            "cell_type": "code",
            "execution_count": null,
            "metadata": {},
            "outputs": [],
            "source": "# Cluster 1\ntoronto_merged.loc[toronto_merged['Cluster Labels'] == 0, toronto_merged.columns[[1] + list(range(4, toronto_merged.shape[1]))]]"
        },
        {
            "cell_type": "code",
            "execution_count": null,
            "metadata": {},
            "outputs": [],
            "source": "# Cluster 2\ntoronto_merged.loc[toronto_merged['Cluster Labels'] == 1, toronto_merged.columns[[1] + list(range(4, toronto_merged.shape[1]))]]"
        },
        {
            "cell_type": "code",
            "execution_count": null,
            "metadata": {},
            "outputs": [],
            "source": "# Cluster 3\ntoronto_merged.loc[toronto_merged['Cluster Labels'] == 2, toronto_merged.columns[[1] + list(range(4, toronto_merged.shape[1]))]]"
        },
        {
            "cell_type": "code",
            "execution_count": null,
            "metadata": {},
            "outputs": [],
            "source": "# Cluster - 4\ntoronto_merged.loc[toronto_merged['Cluster Labels'] == 3, toronto_merged.columns[[1] + list(range(4, toronto_merged.shape[1]))]]"
        }
    ],
    "metadata": {
        "kernelspec": {
            "display_name": "Python 3.6",
            "language": "python",
            "name": "python3"
        },
        "language_info": {
            "codemirror_mode": {
                "name": "ipython",
                "version": 3
            },
            "file_extension": ".py",
            "mimetype": "text/x-python",
            "name": "python",
            "nbconvert_exporter": "python",
            "pygments_lexer": "ipython3",
            "version": "3.6.9"
        }
    },
    "nbformat": 4,
    "nbformat_minor": 1
}